{
  "nbformat": 4,
  "nbformat_minor": 0,
  "metadata": {
    "colab": {
      "provenance": [],
      "authorship_tag": "ABX9TyMSvKZsaEnxFAyaU4FImGkU",
      "include_colab_link": true
    },
    "kernelspec": {
      "name": "python3",
      "display_name": "Python 3"
    },
    "language_info": {
      "name": "python"
    }
  },
  "cells": [
    {
      "cell_type": "markdown",
      "metadata": {
        "id": "view-in-github",
        "colab_type": "text"
      },
      "source": [
        "<a href=\"https://colab.research.google.com/github/Ananikon87/Code_Projects/blob/main/Advanced_AI_Chatbot.ipynb\" target=\"_parent\"><img src=\"https://colab.research.google.com/assets/colab-badge.svg\" alt=\"Open In Colab\"/></a>"
      ]
    },
    {
      "cell_type": "markdown",
      "source": [
        "# **Advanced AI Chatbot**"
      ],
      "metadata": {
        "id": "oVfc3XDynda2"
      }
    },
    {
      "cell_type": "markdown",
      "source": [
        "## **Install Packages**"
      ],
      "metadata": {
        "id": "pVv7R4E1Y8iH"
      }
    },
    {
      "cell_type": "code",
      "execution_count": null,
      "metadata": {
        "id": "GkGQNNF7AIVk",
        "colab": {
          "base_uri": "https://localhost:8080/"
        },
        "outputId": "446f0ccc-401d-4e72-c985-9767b64b61cb"
      },
      "outputs": [
        {
          "output_type": "stream",
          "name": "stdout",
          "text": [
            "Requirement already satisfied: Flask in /usr/local/lib/python3.11/dist-packages (3.1.0)\n",
            "Collecting pyngrok\n",
            "  Downloading pyngrok-7.2.3-py3-none-any.whl.metadata (8.7 kB)\n",
            "Collecting mistralai\n",
            "  Downloading mistralai-1.5.0-py3-none-any.whl.metadata (29 kB)\n",
            "Requirement already satisfied: Werkzeug>=3.1 in /usr/local/lib/python3.11/dist-packages (from Flask) (3.1.3)\n",
            "Requirement already satisfied: Jinja2>=3.1.2 in /usr/local/lib/python3.11/dist-packages (from Flask) (3.1.5)\n",
            "Requirement already satisfied: itsdangerous>=2.2 in /usr/local/lib/python3.11/dist-packages (from Flask) (2.2.0)\n",
            "Requirement already satisfied: click>=8.1.3 in /usr/local/lib/python3.11/dist-packages (from Flask) (8.1.8)\n",
            "Requirement already satisfied: blinker>=1.9 in /usr/local/lib/python3.11/dist-packages (from Flask) (1.9.0)\n",
            "Requirement already satisfied: PyYAML>=5.1 in /usr/local/lib/python3.11/dist-packages (from pyngrok) (6.0.2)\n",
            "Requirement already satisfied: eval-type-backport>=0.2.0 in /usr/local/lib/python3.11/dist-packages (from mistralai) (0.2.2)\n",
            "Requirement already satisfied: httpx>=0.27.0 in /usr/local/lib/python3.11/dist-packages (from mistralai) (0.28.1)\n",
            "Collecting jsonpath-python>=1.0.6 (from mistralai)\n",
            "  Downloading jsonpath_python-1.0.6-py3-none-any.whl.metadata (12 kB)\n",
            "Requirement already satisfied: pydantic>=2.9.0 in /usr/local/lib/python3.11/dist-packages (from mistralai) (2.10.6)\n",
            "Requirement already satisfied: python-dateutil>=2.8.2 in /usr/local/lib/python3.11/dist-packages (from mistralai) (2.8.2)\n",
            "Collecting typing-inspect>=0.9.0 (from mistralai)\n",
            "  Downloading typing_inspect-0.9.0-py3-none-any.whl.metadata (1.5 kB)\n",
            "Requirement already satisfied: anyio in /usr/local/lib/python3.11/dist-packages (from httpx>=0.27.0->mistralai) (3.7.1)\n",
            "Requirement already satisfied: certifi in /usr/local/lib/python3.11/dist-packages (from httpx>=0.27.0->mistralai) (2024.12.14)\n",
            "Requirement already satisfied: httpcore==1.* in /usr/local/lib/python3.11/dist-packages (from httpx>=0.27.0->mistralai) (1.0.7)\n",
            "Requirement already satisfied: idna in /usr/local/lib/python3.11/dist-packages (from httpx>=0.27.0->mistralai) (3.10)\n",
            "Requirement already satisfied: h11<0.15,>=0.13 in /usr/local/lib/python3.11/dist-packages (from httpcore==1.*->httpx>=0.27.0->mistralai) (0.14.0)\n",
            "Requirement already satisfied: MarkupSafe>=2.0 in /usr/local/lib/python3.11/dist-packages (from Jinja2>=3.1.2->Flask) (3.0.2)\n",
            "Requirement already satisfied: annotated-types>=0.6.0 in /usr/local/lib/python3.11/dist-packages (from pydantic>=2.9.0->mistralai) (0.7.0)\n",
            "Requirement already satisfied: pydantic-core==2.27.2 in /usr/local/lib/python3.11/dist-packages (from pydantic>=2.9.0->mistralai) (2.27.2)\n",
            "Requirement already satisfied: typing-extensions>=4.12.2 in /usr/local/lib/python3.11/dist-packages (from pydantic>=2.9.0->mistralai) (4.12.2)\n",
            "Requirement already satisfied: six>=1.5 in /usr/local/lib/python3.11/dist-packages (from python-dateutil>=2.8.2->mistralai) (1.17.0)\n",
            "Collecting mypy-extensions>=0.3.0 (from typing-inspect>=0.9.0->mistralai)\n",
            "  Downloading mypy_extensions-1.0.0-py3-none-any.whl.metadata (1.1 kB)\n",
            "Requirement already satisfied: sniffio>=1.1 in /usr/local/lib/python3.11/dist-packages (from anyio->httpx>=0.27.0->mistralai) (1.3.1)\n",
            "Downloading pyngrok-7.2.3-py3-none-any.whl (23 kB)\n",
            "Downloading mistralai-1.5.0-py3-none-any.whl (271 kB)\n",
            "\u001b[2K   \u001b[90m━━━━━━━━━━━━━━━━━━━━━━━━━━━━━━━━━━━━━━━━\u001b[0m \u001b[32m271.6/271.6 kB\u001b[0m \u001b[31m10.9 MB/s\u001b[0m eta \u001b[36m0:00:00\u001b[0m\n",
            "\u001b[?25hDownloading jsonpath_python-1.0.6-py3-none-any.whl (7.6 kB)\n",
            "Downloading typing_inspect-0.9.0-py3-none-any.whl (8.8 kB)\n",
            "Downloading mypy_extensions-1.0.0-py3-none-any.whl (4.7 kB)\n",
            "Installing collected packages: pyngrok, mypy-extensions, jsonpath-python, typing-inspect, mistralai\n",
            "Successfully installed jsonpath-python-1.0.6 mistralai-1.5.0 mypy-extensions-1.0.0 pyngrok-7.2.3 typing-inspect-0.9.0\n"
          ]
        }
      ],
      "source": [
        "# Installing packages\n",
        "\n",
        "!pip install Flask pyngrok mistralai"
      ]
    },
    {
      "cell_type": "code",
      "source": [
        "import os\n",
        "from flask import Flask, request, render_template_string, jsonify\n",
        "from pyngrok import ngrok\n",
        "from mistralai import Mistral\n",
        "from getpass import getpass\n",
        "\n",
        "# Create mistral and ngrok API Keys\n",
        "\n",
        "mistral_api_key = getpass(\"Please enter your Mistral API Key: \")\n",
        "ngrok_auth_token = getpass(\"Please enter your ngrok auth token: \")\n"
      ],
      "metadata": {
        "id": "8Od7QzIOYwca",
        "colab": {
          "base_uri": "https://localhost:8080/"
        },
        "outputId": "3aecfbdc-3f25-4436-98d1-5b07d3468b77"
      },
      "execution_count": 10,
      "outputs": [
        {
          "name": "stdout",
          "output_type": "stream",
          "text": [
            "Please enter your Mistral API Key: ··········\n",
            "Please enter your ngrok auth token: ··········\n"
          ]
        }
      ]
    },
    {
      "cell_type": "markdown",
      "source": [
        "## **Creating variables for AI Chatbot**\n",
        "### Creating user and chatbot interaction"
      ],
      "metadata": {
        "id": "Q5sxSw1gb55q"
      }
    },
    {
      "cell_type": "code",
      "source": [
        "# Define the AI model\n",
        "client = Mistral(api_key=mistral_api_key)\n",
        "app = Flask(__name__)\n",
        "port = 8000\n",
        "\n",
        "# Design the AI Chatbot writing website content via html\n",
        "html = \"\"\"\n",
        "\n",
        "<html>\n",
        "  <title> Chatbot </title>\n",
        "  <style>  .user { color:blue; }  </style>\n",
        "\n",
        "  <body>\n",
        "    <div id=\"chatbot\"></div>\n",
        "    <input id=\"input\" placeholder=\"Type a message\">\n",
        "    <button onclick=\"send()\"> Send </button>\n",
        "\n",
        "    <script>\n",
        "      function send() {\n",
        "        const msg = document.getElementById('input').value;\n",
        "        if (!msg) return\n",
        "\n",
        "        add(\"You\", msg, 'user')\n",
        "        document.getElementById(\"input\").value = ''\n",
        "        fetch('./get_response', {method:'POST', headers:{'Content-Type':'application/json'}, body:JSON.stringify({message:msg})})\n",
        "        .then(res => res.json()).then(data => add('Bot', data.response, 'bot'))\n",
        "      }\n",
        "\n",
        "      function add(sender, msg, cls) {\n",
        "        const div = document.createElement('div')\n",
        "        div.className = `msg ${cls}`\n",
        "        div.textContent = `${sender}: ${msg}`\n",
        "        document.getElementById('chatbot').appendChild(div)\n",
        "        document.getElementById('chatbot').scrollTop = document.getElementById('chatbot').scrollHeight\n",
        "      }\n",
        "    </script>\n",
        "  </body>\n",
        "</html>\n",
        "\n",
        "\"\"\"\n",
        "# Serving the website content\n",
        "@app.route(\"/\")\n",
        "def index():\n",
        "    return render_template_string(html)\n",
        "\n",
        "# Call the AI model\n",
        "@app.route('/get_response', methods= [\"POST\"])\n",
        "def get_response():\n",
        "    user_input = request.json.get('message', '')\n",
        "    response = client.chat.complete(\n",
        "        model=\"mistral-large-latest\",\n",
        "        messages=[\n",
        "            {\"role\": 'user', \"content\": user_input}\n",
        "        ])\n",
        "    return jsonify({'response': response.choices[0].message.content})\n",
        "\n",
        "# Run the code/app\n",
        "if __name__ == \"__main__\":\n",
        "    ngrok.set_auth_token(\"2sbiMydCSiKdCrMuGUlM90tpP79_7vhRJrWAvUHX2VfAo1Xrs\")\n",
        "    public_url = ngrok.connect(port)\n",
        "    print(f\"Chatbot running at: \" +str(public_url))\n",
        "    app.run(port=port)\n"
      ],
      "metadata": {
        "colab": {
          "base_uri": "https://localhost:8080/"
        },
        "id": "Zp0lZQEzbc6U",
        "outputId": "8008e688-cb1c-436b-b500-75066202a459"
      },
      "execution_count": 14,
      "outputs": [
        {
          "output_type": "stream",
          "name": "stdout",
          "text": [
            "Chatbot running at: NgrokTunnel: \"https://eecd-35-238-89-230.ngrok-free.app\" -> \"http://localhost:8000\"\n",
            " * Serving Flask app '__main__'\n",
            " * Debug mode: off\n"
          ]
        },
        {
          "output_type": "stream",
          "name": "stderr",
          "text": [
            "INFO:werkzeug:\u001b[31m\u001b[1mWARNING: This is a development server. Do not use it in a production deployment. Use a production WSGI server instead.\u001b[0m\n",
            " * Running on http://127.0.0.1:8000\n",
            "INFO:werkzeug:\u001b[33mPress CTRL+C to quit\u001b[0m\n",
            "INFO:werkzeug:127.0.0.1 - - [05/Feb/2025 05:37:17] \"GET / HTTP/1.1\" 200 -\n",
            "INFO:werkzeug:127.0.0.1 - - [05/Feb/2025 05:37:17] \"\u001b[33mGET /favicon.ico HTTP/1.1\u001b[0m\" 404 -\n",
            "INFO:werkzeug:127.0.0.1 - - [05/Feb/2025 05:37:26] \"POST /get_response HTTP/1.1\" 200 -\n",
            "INFO:werkzeug:127.0.0.1 - - [05/Feb/2025 05:37:48] \"POST /get_response HTTP/1.1\" 200 -\n",
            "INFO:werkzeug:127.0.0.1 - - [05/Feb/2025 05:38:07] \"POST /get_response HTTP/1.1\" 200 -\n"
          ]
        }
      ]
    }
  ]
}