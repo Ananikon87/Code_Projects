{
  "nbformat": 4,
  "nbformat_minor": 0,
  "metadata": {
    "colab": {
      "provenance": []
    },
    "kernelspec": {
      "name": "python3",
      "display_name": "Python 3"
    },
    "language_info": {
      "name": "python"
    }
  },
  "cells": [
    {
      "cell_type": "markdown",
      "source": [
        "# **Basic Mini Dashboard Project**"
      ],
      "metadata": {
        "id": "lt0dY9vre86H"
      }
    },
    {
      "cell_type": "code",
      "execution_count": null,
      "metadata": {
        "colab": {
          "base_uri": "https://localhost:8080/",
          "height": 671
        },
        "id": "LwoE4BeSrwjr",
        "outputId": "583c391f-f540-4bca-c6ae-e8e3e0e0b742"
      },
      "outputs": [
        {
          "output_type": "display_data",
          "data": {
            "text/plain": [
              "<IPython.core.display.Javascript object>"
            ],
            "application/javascript": [
              "(async (port, path, width, height, cache, element) => {\n",
              "    if (!google.colab.kernel.accessAllowed && !cache) {\n",
              "      return;\n",
              "    }\n",
              "    element.appendChild(document.createTextNode(''));\n",
              "    const url = await google.colab.kernel.proxyPort(port, {cache});\n",
              "    const iframe = document.createElement('iframe');\n",
              "    iframe.src = new URL(path, url).toString();\n",
              "    iframe.height = height;\n",
              "    iframe.width = width;\n",
              "    iframe.style.border = 0;\n",
              "    iframe.allow = [\n",
              "        'accelerometer',\n",
              "        'autoplay',\n",
              "        'camera',\n",
              "        'clipboard-read',\n",
              "        'clipboard-write',\n",
              "        'gyroscope',\n",
              "        'magnetometer',\n",
              "        'microphone',\n",
              "        'serial',\n",
              "        'usb',\n",
              "        'xr-spatial-tracking',\n",
              "    ].join('; ');\n",
              "    element.appendChild(iframe);\n",
              "  })(8050, \"/\", \"100%\", 650, false, window.element)"
            ]
          },
          "metadata": {}
        }
      ],
      "source": [
        "import dash\n",
        "from dash import dcc\n",
        "from dash import html\n",
        "\n",
        "# Create a Dashboard Application\n",
        "app = dash.Dash(__name__)\n",
        "\n",
        "# Define the layout of the Dashboard\n",
        "app.layout = html.Div(\n",
        "    children=[\n",
        "        html.H1('My Dashboard'),\n",
        "        dcc.Graph(\n",
        "            id='My-Graph',\n",
        "            figure={\n",
        "                'data':[\n",
        "                    {'x':[1,2,3], 'y':[4,1,2],'type': 'bar', 'name':'Bar Chart'},\n",
        "                    {'x':[1,2,3], 'y':[2,4,5],'type': 'line', 'name':'Line Chart'},\n",
        "                ],\n",
        "                'layout':{\n",
        "                    'title': 'Graph Title',\n",
        "                    'xaxis': {'title':'x-axis'},\n",
        "                    'yaxis': {'title':'y-axis'}\n",
        "                }\n",
        "            }\n",
        "        )\n",
        "    ]\n",
        ")\n",
        "\n",
        "# Code that runs the application\n",
        "if __name__ == '__main__':\n",
        "    app.run_server(debug=True)"
      ]
    }
  ]
}